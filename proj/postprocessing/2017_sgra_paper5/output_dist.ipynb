{
 "cells": [
  {
   "cell_type": "code",
   "execution_count": 1,
   "metadata": {},
   "outputs": [],
   "source": [
    "%load_ext autoreload\n",
    "%autoreload 2\n",
    "\n",
    "import numpy  as np\n",
    "import pandas as pd\n",
    "\n",
    "from matplotlib import pyplot as plt\n",
    "\n",
    "from common import hallmark as hm\n",
    "from common import viz"
   ]
  },
  {
   "cell_type": "code",
   "execution_count": 2,
   "metadata": {},
   "outputs": [
    {
     "name": "stdout",
     "output_type": "stream",
     "text": [
      "mag ['M' 'S']\n",
      "Rhigh [  1  10  40 160]\n",
      "freq ['230GHz' '2um' '86GHz']\n",
      "win [3 4 5]\n",
      "aspin [-0.94 -0.5   0.    0.5   0.94]\n",
      "inc [ 10  30  50  70  90 110 130 150 170]\n"
     ]
    }
   ],
   "source": [
    "def getdist(path, dist):\n",
    "    df = pd.read_csv(path, sep='\\t')\n",
    "    return df[dist].values\n",
    "\n",
    "pf = hm.ParaFrame('cache/Illinois_thermal_w{win:d}/{mag}a{aspin:g}_i{inc:d}/summ_Rh{Rhigh:d}_{freq}.tsv')\n",
    "\n",
    "for k in set(pf.keys()) - {'path'}:\n",
    "    globals()[k] = np.unique(pf[k])\n",
    "    print(k, globals()[k][:16])"
   ]
  },
  {
   "cell_type": "code",
   "execution_count": 3,
   "metadata": {},
   "outputs": [],
   "source": [
    "magmap = {'M':'MAD', 'S':'SANE'}\n",
    "\n",
    "def getdist(path, dist):\n",
    "    df = pd.read_csv(path, sep='\\t')\n",
    "    return df[dist].values\n",
    "\n",
    "def plotdist(ax, pf, key, ylim=None, yscale=None):\n",
    "    if len(pf) != 27:\n",
    "        print('WARNING: unexpected number of matchingn tables')\n",
    "        print(pf)\n",
    "\n",
    "    for w in win:\n",
    "        sel   = pf(win=w).sort_values('inc')\n",
    "        dists = [getdist(p, key) for p in sel.path]\n",
    "        ax.violinplot(dists, positions=sel.inc, widths=20, showmedians=True, showextrema=False)\n",
    "        \n",
    "    if ylim is not None:\n",
    "        ax.set_ylim(ylim)\n",
    "        \n",
    "    if yscale is not None:\n",
    "        ax.set_yscale(yscale)"
   ]
  },
  {
   "cell_type": "code",
   "execution_count": 4,
   "metadata": {},
   "outputs": [
    {
     "name": "stdout",
     "output_type": "stream",
     "text": [
      "Ftot 86GHz M 540\n",
      "Ftot 86GHz S 540\n",
      "Ftot 230GHz M 540\n",
      "Ftot 230GHz S 540\n",
      "Ftot 2um M 540\n",
      "Ftot 2um S 540\n",
      "major_FWHM 86GHz M 540\n",
      "major_FWHM 86GHz S 540\n",
      "major_FWHM 230GHz M 540\n",
      "major_FWHM 230GHz S 540\n",
      "major_FWHM 2um M 540\n",
      "major_FWHM 2um S 540\n",
      "minor_FWHM 86GHz M 540\n",
      "minor_FWHM 86GHz S 540\n",
      "minor_FWHM 230GHz M 540\n",
      "minor_FWHM 230GHz S 540\n",
      "minor_FWHM 2um M 540\n",
      "minor_FWHM 2um S 540\n",
      "PA 86GHz M 540\n",
      "PA 86GHz S 540\n",
      "PA 230GHz M 540\n",
      "PA 230GHz S 540\n",
      "PA 2um M 540\n",
      "PA 2um S 540\n",
      "alpha0 86GHz M 540\n",
      "alpha0 86GHz S 540\n",
      "alpha0 230GHz M 540\n",
      "alpha0 230GHz S 540\n",
      "alpha0 2um M 540\n",
      "alpha0 2um S 540\n",
      "beta0 86GHz M 540\n",
      "beta0 86GHz S 540\n",
      "beta0 230GHz M 540\n",
      "beta0 230GHz S 540\n",
      "beta0 2um M 540\n",
      "beta0 2um S 540\n"
     ]
    }
   ],
   "source": [
    "settings = {\n",
    "    'Ftot':{\n",
    "        '86GHz' :([0,6],        None,  r'Flux $F_\\nu$ [Jy]'),\n",
    "        '230GHz':([0,6],        None,  r'Flux $F_\\nu$ [Jy]'),\n",
    "        '2um'   :([5e-12,2e-1], 'log', r'Flux $F_\\nu$ [Jy]'),\n",
    "    },\n",
    "    'major_FWHM':{\n",
    "        '86GHz' :([0,180], None, r'Size [$\\mu$as]'),\n",
    "        '230GHz':([0,120], None, r'Size [$\\mu$as]'),\n",
    "        '2um'   :([0,80],  None, r'Size [$\\mu$as]'),\n",
    "    },\n",
    "    'minor_FWHM':{\n",
    "        '86GHz' :([0,180], None, r'Size [$\\mu$as]'),\n",
    "        '230GHz':([0,120], None, r'Size [$\\mu$as]'),\n",
    "        '2um'   :([0,80],  None, r'Size [$\\mu$as]'),\n",
    "    },\n",
    "    'PA':{\n",
    "        '86GHz' :([-90,90], None, r'PA [$^\\circ$]'),\n",
    "        '230GHz':([-90,90], None, r'PA [$^\\circ$]'),\n",
    "        '2um'   :([-90,90], None, r'PA [$^\\circ$]'),\n",
    "    },\n",
    "    'alpha0':{\n",
    "        '86GHz' :([-50,50], None, r'Offset [$\\mu$as]'),\n",
    "        '230GHz':([-50,50], None, r'Offset [$\\mu$as]'),\n",
    "        '2um'   :([-50,50], None, r'Offset [$\\mu$as]'),\n",
    "    },\n",
    "    'beta0':{\n",
    "        '86GHz' :([-50,50], None, r'Offset [$\\mu$as]'),\n",
    "        '230GHz':([-50,50], None, r'Offset [$\\mu$as]'),\n",
    "        '2um'   :([-50,50], None, r'Offset [$\\mu$as]'),\n",
    "    },\n",
    "}\n",
    "\n",
    "for dist, settings2 in settings.items():\n",
    "    for freq, (ylim, yscale, ylabel) in settings2.items():\n",
    "        plot = lambda ax, pf: plotdist(ax, pf, dist, ylim, yscale)\n",
    "        \n",
    "        for m in mag:\n",
    "            sel = pf(freq=freq)(mag=m)\n",
    "            print(dist, freq, m, len(sel))\n",
    "            \n",
    "            fig = viz.grid(\n",
    "                sel, plot, aspin=aspin, Rhigh=Rhigh[::-1],\n",
    "                figsize=(15,12), title=f'{magmap[m]} {freq} {dist}',\n",
    "                xtitle=r'$a_\\mathrm{{spin}}={}$',     ytitle=r'$R_\\mathrm{{high}}={}$',\n",
    "                xlabel=r'Inclination $i$ [$^\\circ$]', ylabel=ylabel,\n",
    "                fout=f'output/plot/dist_{dist}_{magmap[m]}_{freq}',\n",
    "            )\n",
    "            plt.close(fig)"
   ]
  },
  {
   "cell_type": "code",
   "execution_count": null,
   "metadata": {},
   "outputs": [],
   "source": []
  }
 ],
 "metadata": {
  "kernelspec": {
   "display_name": "Python 3 (ipykernel)",
   "language": "python",
   "name": "python3"
  },
  "language_info": {
   "codemirror_mode": {
    "name": "ipython",
    "version": 3
   },
   "file_extension": ".py",
   "mimetype": "text/x-python",
   "name": "python",
   "nbconvert_exporter": "python",
   "pygments_lexer": "ipython3",
   "version": "3.9.7"
  }
 },
 "nbformat": 4,
 "nbformat_minor": 4
}
