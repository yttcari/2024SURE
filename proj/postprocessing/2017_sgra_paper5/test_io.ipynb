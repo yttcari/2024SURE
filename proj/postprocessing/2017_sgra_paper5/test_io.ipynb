{
 "cells": [
  {
   "cell_type": "code",
   "execution_count": 1,
   "id": "dfab84bb-b622-4641-85ec-57cae732c600",
   "metadata": {},
   "outputs": [],
   "source": [
    "%load_ext autoreload\n",
    "%autoreload 2\n",
    "\n",
    "import numpy as np\n",
    "\n",
    "from matplotlib import pyplot as plt\n",
    "from astropy    import units  as u\n",
    "\n",
    "from common import hallmark as hm\n",
    "from common import io_ipole as io\n",
    "from common import viz"
   ]
  },
  {
   "cell_type": "code",
   "execution_count": 2,
   "id": "0e1cc6f5-7965-4268-bb9a-2266c9a7311f",
   "metadata": {},
   "outputs": [
    {
     "name": "stdout",
     "output_type": "stream",
     "text": [
      "Rhigh [  1  10  40 160]\n",
      "aspin [0.]\n",
      "mag ['M']\n",
      "inc [10 30 50 70]\n",
      "snapshot [1000]\n",
      "window [1]\n"
     ]
    }
   ],
   "source": [
    "pf = hm.ParaFrame(\n",
    "    'test/ipole_86GHz/{mag}a{aspin:g}_w{window:d}/img_s{snapshot:d}_Rh{Rhigh:d}_i{inc:d}.h5'\n",
    ")\n",
    "\n",
    "for k in set(pf.keys()) - {'path'}:\n",
    "    globals()[k] = np.unique(pf[k])\n",
    "    print(k, globals()[k][:16])"
   ]
  },
  {
   "cell_type": "code",
   "execution_count": 3,
   "id": "616a52df-ac34-42d5-9e85-23957df93f8a",
   "metadata": {},
   "outputs": [
    {
     "data": {
      "text/html": [
       "<div>\n",
       "<style scoped>\n",
       "    .dataframe tbody tr th:only-of-type {\n",
       "        vertical-align: middle;\n",
       "    }\n",
       "\n",
       "    .dataframe tbody tr th {\n",
       "        vertical-align: top;\n",
       "    }\n",
       "\n",
       "    .dataframe thead th {\n",
       "        text-align: right;\n",
       "    }\n",
       "</style>\n",
       "<table border=\"1\" class=\"dataframe\">\n",
       "  <thead>\n",
       "    <tr style=\"text-align: right;\">\n",
       "      <th></th>\n",
       "      <th>path</th>\n",
       "      <th>mag</th>\n",
       "      <th>aspin</th>\n",
       "      <th>window</th>\n",
       "      <th>snapshot</th>\n",
       "      <th>Rhigh</th>\n",
       "      <th>inc</th>\n",
       "    </tr>\n",
       "  </thead>\n",
       "  <tbody>\n",
       "    <tr>\n",
       "      <th>3</th>\n",
       "      <td>test/ipole_86GHz/Ma0_w1/img_s01000_Rh10_i70.h5</td>\n",
       "      <td>M</td>\n",
       "      <td>0.0</td>\n",
       "      <td>1</td>\n",
       "      <td>1000</td>\n",
       "      <td>10</td>\n",
       "      <td>70</td>\n",
       "    </tr>\n",
       "    <tr>\n",
       "      <th>7</th>\n",
       "      <td>test/ipole_86GHz/Ma0_w1/img_s01000_Rh160_i70.h5</td>\n",
       "      <td>M</td>\n",
       "      <td>0.0</td>\n",
       "      <td>1</td>\n",
       "      <td>1000</td>\n",
       "      <td>160</td>\n",
       "      <td>70</td>\n",
       "    </tr>\n",
       "    <tr>\n",
       "      <th>11</th>\n",
       "      <td>test/ipole_86GHz/Ma0_w1/img_s01000_Rh1_i70.h5</td>\n",
       "      <td>M</td>\n",
       "      <td>0.0</td>\n",
       "      <td>1</td>\n",
       "      <td>1000</td>\n",
       "      <td>1</td>\n",
       "      <td>70</td>\n",
       "    </tr>\n",
       "    <tr>\n",
       "      <th>15</th>\n",
       "      <td>test/ipole_86GHz/Ma0_w1/img_s01000_Rh40_i70.h5</td>\n",
       "      <td>M</td>\n",
       "      <td>0.0</td>\n",
       "      <td>1</td>\n",
       "      <td>1000</td>\n",
       "      <td>40</td>\n",
       "      <td>70</td>\n",
       "    </tr>\n",
       "  </tbody>\n",
       "</table>\n",
       "</div>"
      ],
      "text/plain": [
       "                                               path mag  aspin  window  \\\n",
       "3    test/ipole_86GHz/Ma0_w1/img_s01000_Rh10_i70.h5   M    0.0       1   \n",
       "7   test/ipole_86GHz/Ma0_w1/img_s01000_Rh160_i70.h5   M    0.0       1   \n",
       "11    test/ipole_86GHz/Ma0_w1/img_s01000_Rh1_i70.h5   M    0.0       1   \n",
       "15   test/ipole_86GHz/Ma0_w1/img_s01000_Rh40_i70.h5   M    0.0       1   \n",
       "\n",
       "    snapshot  Rhigh  inc  \n",
       "3       1000     10   70  \n",
       "7       1000    160   70  \n",
       "11      1000      1   70  \n",
       "15      1000     40   70  "
      ]
     },
     "metadata": {},
     "output_type": "display_data"
    }
   ],
   "source": [
    "sel = pf(inc=70)\n",
    "display(sel)"
   ]
  },
  {
   "cell_type": "code",
   "execution_count": 10,
   "id": "138402de-2a3d-4c29-8836-91fc0235ba41",
   "metadata": {},
   "outputs": [],
   "source": [
    "imgs = io.load_mov(sel.path)\n",
    "#imgs = io.load_mov('model/Illinois_thermal/86GHz/Ma+0.5_w5/img_s05999_Rh160_i30_hres.h5')\n",
    "meta = imgs.meta"
   ]
  },
  {
   "cell_type": "code",
   "execution_count": 12,
   "id": "103ae26e-5b35-4f03-bea1-d26a254de965",
   "metadata": {},
   "outputs": [
    {
     "data": {
      "image/png": "[encoded data removed]",
      "text/plain": [
       "<Figure size 432x288 with 1 Axes>"
      ]
     },
     "metadata": {
      "needs_background": "light"
     },
     "output_type": "display_data"
    }
   ],
   "source": [
    "ax = viz.show(imgs, s=0)\n",
    "#ax.set_xlim( 99,-99)\n",
    "#ax.set_ylim(-99, 99)"
   ]
  },
  {
   "cell_type": "code",
   "execution_count": 6,
   "id": "51d32862-7905-4e55-bacf-399bfbd767c7",
   "metadata": {},
   "outputs": [
    {
     "data": {
      "text/latex": [
       "$4141166.6 \\; \\mathrm{M_{\\odot}}$"
      ],
      "text/plain": [
       "<Quantity 4141166.64059526 solMass>"
      ]
     },
     "metadata": {},
     "output_type": "display_data"
    },
    {
     "data": {
      "text/latex": [
       "$8127.0011 \\; \\mathrm{pc}$"
      ],
      "text/plain": [
       "<Quantity 8127.00110226 pc>"
      ]
     },
     "metadata": {},
     "output_type": "display_data"
    },
    {
     "data": {
      "text/latex": [
       "$86 \\; \\mathrm{GHz}$"
      ],
      "text/plain": [
       "<Quantity 86. GHz>"
      ]
     },
     "metadata": {},
     "output_type": "display_data"
    },
    {
     "data": {
      "text/latex": [
       "$[5000.0034,~5000.0034,~5000.0034,~5000.0034] \\; \\mathrm{M}$"
      ],
      "text/plain": [
       "<Quantity [5000.00336439, 5000.00336439, 5000.00336439, 5000.00336439] M>"
      ]
     },
     "metadata": {},
     "output_type": "display_data"
    },
    {
     "data": {
      "text/latex": [
       "$59.646318 \\; \\mathrm{M}$"
      ],
      "text/plain": [
       "<Quantity 59.64631839 M>"
      ]
     },
     "metadata": {},
     "output_type": "display_data"
    },
    {
     "data": {
      "text/latex": [
       "$79.528425 \\; \\mathrm{M}$"
      ],
      "text/plain": [
       "<Quantity 79.52842452 M>"
      ]
     },
     "metadata": {},
     "output_type": "display_data"
    }
   ],
   "source": [
    "display(meta.mass, meta.dist, meta.freq)\n",
    "display(meta.time, meta.width, meta.height)"
   ]
  },
  {
   "cell_type": "code",
   "execution_count": 7,
   "id": "80e448ea-6613-4a22-a9b8-cd7a80a61a4d",
   "metadata": {},
   "outputs": [
    {
     "data": {
      "text/latex": [
       "$299.99972 \\; \\mathrm{\\mu as}$"
      ],
      "text/plain": [
       "<Quantity 299.9997182 uas>"
      ]
     },
     "metadata": {},
     "output_type": "display_data"
    },
    {
     "data": {
      "text/latex": [
       "$399.99962 \\; \\mathrm{\\mu as}$"
      ],
      "text/plain": [
       "<Quantity 399.99962426 uas>"
      ]
     },
     "metadata": {},
     "output_type": "display_data"
    }
   ],
   "source": [
    "display(meta.width.to(u.uas, meta.geom),\n",
    "        meta.height.to(u.uas, meta.geom))"
   ]
  },
  {
   "cell_type": "code",
   "execution_count": null,
   "id": "0158cdb3-3ee7-4def-af32-1a142dcc60d0",
   "metadata": {},
   "outputs": [],
   "source": []
  }
 ],
 "metadata": {
  "kernelspec": {
   "display_name": "Python 3 (ipykernel)",
   "language": "python",
   "name": "python3"
  },
  "language_info": {
   "codemirror_mode": {
    "name": "ipython",
    "version": 3
   },
   "file_extension": ".py",
   "mimetype": "text/x-python",
   "name": "python",
   "nbconvert_exporter": "python",
   "pygments_lexer": "ipython3",
   "version": "3.9.10"
  }
 },
 "nbformat": 4,
 "nbformat_minor": 5
}
