{
 "cells": [
  {
   "cell_type": "code",
   "execution_count": 2,
   "metadata": {},
   "outputs": [],
   "source": [
    "import numpy  as np\n",
    "import pandas as pd\n",
    "import h5py\n",
    "\n",
    "from matplotlib import pyplot as plt, cm\n",
    "from tqdm       import tqdm\n",
    "\n",
    "from common import io_ipole as io\n",
    "from common import dalt\n",
    "from common import hallmark as hm\n",
    "from common import viz"
   ]
  },
  {
   "cell_type": "code",
   "execution_count": 4,
   "metadata": {},
   "outputs": [
    {
     "name": "stdout",
     "output_type": "stream",
     "text": [
      "snapshot ['5000' '5001' '5002' '5003' '5004' '5005' '5006' '5007' '5008' '5009'\n",
      " '5010' '5011' '5012' '5013' '5014' '5015']\n"
     ]
    }
   ],
   "source": [
    "pf = hm.ParaFrame('../../../dump/NGC3998_+0.94_86.e9_160/{snapshot}.h5')\n",
    "\n",
    "for k in set(pf.keys()) - {'path'}:\n",
    "    globals()[k] = np.unique(pf[k])\n",
    "    print(k, globals()[k][:16])"
   ]
  },
  {
   "cell_type": "code",
   "execution_count": 13,
   "metadata": {},
   "outputs": [],
   "source": [
    "vmax   = .75e-3\n",
    "\n",
    "def plot(ax, pf):\n",
    "    assert len(pf) == 1\n",
    "    viz.show(io.load_img(pf.path.iloc[0]), ax=ax, cmap='afmhot_10us', vmin=0, vmax=vmax, labels=False)\n",
    "    ax.xaxis.set_ticks(np.linspace(-75,75,7))\n",
    "    ax.yaxis.set_ticks(np.linspace(-75,75,7))\n",
    "    ax.tick_params(color='w')\n",
    "    for spine in ax.spines.values():\n",
    "        spine.set_edgecolor('w')"
   ]
  },
  {
   "cell_type": "code",
   "execution_count": 14,
   "metadata": {},
   "outputs": [
    {
     "name": "stderr",
     "output_type": "stream",
     "text": [
      "  0%|          | 0/1000 [00:00<?, ?it/s]"
     ]
    },
    {
     "name": "stdout",
     "output_type": "stream",
     "text": [
      "5000\n"
     ]
    },
    {
     "name": "stderr",
     "output_type": "stream",
     "text": [
      "\n"
     ]
    },
    {
     "ename": "IndexError",
     "evalue": "list index out of range",
     "output_type": "error",
     "traceback": [
      "\u001b[0;31m---------------------------------------------------------------------------\u001b[0m",
      "\u001b[0;31mIndexError\u001b[0m                                Traceback (most recent call last)",
      "Cell \u001b[0;32mIn[14], line 3\u001b[0m\n\u001b[1;32m      1\u001b[0m \u001b[38;5;28;01mfor\u001b[39;00m s \u001b[38;5;129;01min\u001b[39;00m tqdm(\u001b[38;5;28mrange\u001b[39m(\u001b[38;5;241m1000\u001b[39m)):\n\u001b[1;32m      2\u001b[0m     \u001b[38;5;28mprint\u001b[39m(\u001b[38;5;124mf\u001b[39m\u001b[38;5;124m'\u001b[39m\u001b[38;5;124m5\u001b[39m\u001b[38;5;132;01m{\u001b[39;00ms\u001b[38;5;132;01m:\u001b[39;00m\u001b[38;5;124m03d\u001b[39m\u001b[38;5;132;01m}\u001b[39;00m\u001b[38;5;124m'\u001b[39m)\n\u001b[0;32m----> 3\u001b[0m     fig \u001b[38;5;241m=\u001b[39m \u001b[43mviz\u001b[49m\u001b[38;5;241;43m.\u001b[39;49m\u001b[43mgrid\u001b[49m\u001b[43m(\u001b[49m\u001b[43mpf\u001b[49m\u001b[43m(\u001b[49m\u001b[43msnapshot\u001b[49m\u001b[38;5;241;43m=\u001b[39;49m\u001b[38;5;124;43mf\u001b[39;49m\u001b[38;5;124;43m'\u001b[39;49m\u001b[38;5;124;43m5\u001b[39;49m\u001b[38;5;132;43;01m{\u001b[39;49;00m\u001b[43ms\u001b[49m\u001b[38;5;132;43;01m:\u001b[39;49;00m\u001b[38;5;124;43m03d\u001b[39;49m\u001b[38;5;132;43;01m}\u001b[39;49;00m\u001b[38;5;124;43m'\u001b[39;49m\u001b[43m)\u001b[49m\u001b[43m,\u001b[49m\u001b[43m \u001b[49m\u001b[43mplot\u001b[49m\u001b[43m,\u001b[49m\u001b[43m \u001b[49m\u001b[43mfigsize\u001b[49m\u001b[38;5;241;43m=\u001b[39;49m\u001b[43m(\u001b[49m\u001b[38;5;241;43m6\u001b[39;49m\u001b[43m,\u001b[49m\u001b[38;5;241;43m6\u001b[39;49m\u001b[43m)\u001b[49m\u001b[43m,\u001b[49m\u001b[43m \u001b[49m\n\u001b[1;32m      4\u001b[0m \u001b[43m                   \u001b[49m\u001b[43mfout\u001b[49m\u001b[38;5;241;43m=\u001b[39;49m\u001b[38;5;124;43mf\u001b[39;49m\u001b[38;5;124;43m'\u001b[39;49m\u001b[38;5;124;43moutput/movie/mov\u001b[39;49m\u001b[38;5;124;43m'\u001b[39;49m\u001b[43m)\u001b[49m\n\u001b[1;32m      5\u001b[0m     plt\u001b[38;5;241m.\u001b[39mclose(fig)\n",
      "File \u001b[0;32m~/Desktop/Project/2024SURE/proj/postprocessing/2017_sgra_paper5/common/viz.py:145\u001b[0m, in \u001b[0;36mgrid\u001b[0;34m(pf, plot, fout, title, rowmap, colmap, xtitle, ytitle, xlabel, ylabel, xspace, yspace, legend, **kwargs)\u001b[0m\n\u001b[1;32m    143\u001b[0m colkey \u001b[38;5;241m=\u001b[39m keys[\u001b[38;5;241m0\u001b[39m]\n\u001b[1;32m    144\u001b[0m cols   \u001b[38;5;241m=\u001b[39m kwargs\u001b[38;5;241m.\u001b[39mpop(keys[\u001b[38;5;241m0\u001b[39m])\n\u001b[0;32m--> 145\u001b[0m rowkey \u001b[38;5;241m=\u001b[39m \u001b[43mkeys\u001b[49m\u001b[43m[\u001b[49m\u001b[38;5;241;43m1\u001b[39;49m\u001b[43m]\u001b[49m\n\u001b[1;32m    146\u001b[0m rows   \u001b[38;5;241m=\u001b[39m kwargs\u001b[38;5;241m.\u001b[39mpop(keys[\u001b[38;5;241m1\u001b[39m])\n\u001b[1;32m    148\u001b[0m fig, axes \u001b[38;5;241m=\u001b[39m plt\u001b[38;5;241m.\u001b[39msubplots(\u001b[38;5;28mlen\u001b[39m(rows), \u001b[38;5;28mlen\u001b[39m(cols),\n\u001b[1;32m    149\u001b[0m                          \u001b[38;5;66;03m#sharex=True,\u001b[39;00m\n\u001b[1;32m    150\u001b[0m                          \u001b[38;5;66;03m#sharey=True,\u001b[39;00m\n\u001b[1;32m    151\u001b[0m                          \u001b[38;5;241m*\u001b[39m\u001b[38;5;241m*\u001b[39mkwargs)\n",
      "\u001b[0;31mIndexError\u001b[0m: list index out of range"
     ]
    }
   ],
   "source": [
    "for s in tqdm(range(1000)):\n",
    "    print(f'5{s:03d}')\n",
    "    fig = viz.grid(pf(snapshot=f'5{s:03d}'), plot, figsize=(6,6), \n",
    "                   fout=f'output/movie/mov')\n",
    "    plt.close(fig)"
   ]
  }
 ],
 "metadata": {
  "kernelspec": {
   "display_name": "venv",
   "language": "python",
   "name": "python3"
  },
  "language_info": {
   "codemirror_mode": {
    "name": "ipython",
    "version": 3
   },
   "file_extension": ".py",
   "mimetype": "text/x-python",
   "name": "python",
   "nbconvert_exporter": "python",
   "pygments_lexer": "ipython3",
   "version": "3.12.4"
  }
 },
 "nbformat": 4,
 "nbformat_minor": 2
}
