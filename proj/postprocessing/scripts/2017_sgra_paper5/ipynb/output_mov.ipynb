{
 "cells": [
  {
   "cell_type": "code",
   "execution_count": 1,
   "id": "9adfb973-5596-47f1-8642-76e5fe52cdc2",
   "metadata": {},
   "outputs": [],
   "source": [
    "%load_ext autoreload\n",
    "%autoreload 2\n",
    "\n",
    "import numpy  as np\n",
    "import pandas as pd\n",
    "import h5py\n",
    "\n",
    "import ehtplot\n",
    "from matplotlib import pyplot as plt, cm\n",
    "from tqdm       import tqdm\n",
    "\n",
    "from common import io_ipole as io\n",
    "from common import dalt\n",
    "from common import hallmark as hm\n",
    "from common import viz"
   ]
  },
  {
   "cell_type": "code",
   "execution_count": 2,
   "id": "8196f46e-1f76-4532-b5c4-bf48fdaeb09d",
   "metadata": {},
   "outputs": [
    {
     "name": "stdout",
     "output_type": "stream",
     "text": [
      "mag ['M' 'S']\n",
      "win [5]\n",
      "inc [50 70]\n",
      "freq ['230GHz']\n",
      "Rhigh [10 40]\n",
      "snapshot [5000 5001 5002 5003 5004 5005 5006 5007 5008 5009 5010 5011 5012 5013\n",
      " 5014 5015]\n",
      "aspin [0.5  0.94]\n"
     ]
    }
   ],
   "source": [
    "pf = hm.ParaFrame('model/Illinois_thermal/{freq}/{mag}a{aspin:g}_w{win:d}/img_s{snapshot:d}_Rh{Rhigh:d}_i{inc:d}.h5')\n",
    "\n",
    "for k in set(pf.keys()) - {'path'}:\n",
    "    globals()[k] = np.unique(pf[k])\n",
    "    print(k, globals()[k][:16])"
   ]
  },
  {
   "cell_type": "code",
   "execution_count": 3,
   "id": "5146dbbf-bb38-4fc0-8282-ffa046a44fdd",
   "metadata": {},
   "outputs": [],
   "source": [
    "f   = '230GHz'\n",
    "w   = 5\n",
    "i   = 50\n",
    "\n",
    "a   = 0.5\n",
    "Rh  = 10\n",
    "\n",
    "sel = pf(freq=f)(win=w)(inc=i)"
   ]
  },
  {
   "cell_type": "code",
   "execution_count": 4,
   "id": "8207b1a6-1759-4a21-87f1-310f241d9f5e",
   "metadata": {},
   "outputs": [],
   "source": [
    "magmap = {'M':'MAD', 'S':'SANE'}\n",
    "vmax   = .75e-3\n",
    "\n",
    "def plot(ax, pf):\n",
    "    assert len(pf) == 1\n",
    "    viz.show(io.load_img(pf.path.iloc[0]), ax=ax, cmap='afmhot_10us', vmin=0, vmax=vmax, labels=False)\n",
    "    ax.xaxis.set_ticks(np.linspace(-75,75,7))\n",
    "    ax.yaxis.set_ticks(np.linspace(-75,75,7))\n",
    "    ax.tick_params(color='w')\n",
    "    for spine in ax.spines.values():\n",
    "        spine.set_edgecolor('w')"
   ]
  },
  {
   "cell_type": "code",
   "execution_count": 5,
   "id": "b747f0fd-d52a-4412-b892-202c0f0a6f83",
   "metadata": {},
   "outputs": [
    {
     "name": "stderr",
     "output_type": "stream",
     "text": [
      "100%|███████████████████████████████████████████████████████████████████████████████████████| 1000/1000 [07:27<00:00,  2.24it/s]\n",
      "100%|███████████████████████████████████████████████████████████████████████████████████████| 1000/1000 [12:37<00:00,  1.32it/s]\n"
     ]
    }
   ],
   "source": [
    "for m in mag:\n",
    "    for s in tqdm(range(1000)):\n",
    "        # print(m, s)\n",
    "        fig = viz.grid(sel(mag=m)(snapshot=s+w*1000), plot, aspin=[a], Rhigh=[Rh],\n",
    "                       figsize=(6,6), title=f'{f} image for {magmap[m]}, inclincation $i={i}^\\circ$, window {w}',\n",
    "                       xtitle=r'$a_\\mathrm{{spin}}={}$',  ytitle=r'$R_\\mathrm{{high}}={}$',\n",
    "                       xlabel=r'$x$ [$\\mu$as]', ylabel=r'$y$ [$\\mu$as]', \n",
    "                       fout=f'output/movie/mov_{magmap[m]}_s{s:04d}')\n",
    "        plt.close(fig)"
   ]
  },
  {
   "cell_type": "code",
   "execution_count": null,
   "id": "11633635-e175-43d8-baef-d981f9ec28f6",
   "metadata": {},
   "outputs": [],
   "source": [
    "vis = ms.mockserve(mov, N=256)"
   ]
  }
 ],
 "metadata": {
  "kernelspec": {
   "display_name": "Python 3 (ipykernel)",
   "language": "python",
   "name": "python3"
  },
  "language_info": {
   "codemirror_mode": {
    "name": "ipython",
    "version": 3
   },
   "file_extension": ".py",
   "mimetype": "text/x-python",
   "name": "python",
   "nbconvert_exporter": "python",
   "pygments_lexer": "ipython3",
   "version": "3.9.10"
  }
 },
 "nbformat": 4,
 "nbformat_minor": 5
}
