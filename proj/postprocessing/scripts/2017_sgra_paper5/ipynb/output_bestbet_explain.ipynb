{
 "cells": [
  {
   "cell_type": "code",
   "execution_count": 7,
   "id": "9adfb973-5596-47f1-8642-76e5fe52cdc2",
   "metadata": {},
   "outputs": [
    {
     "name": "stdout",
     "output_type": "stream",
     "text": [
      "The autoreload extension is already loaded. To reload it, use:\n",
      "  %reload_ext autoreload\n"
     ]
    }
   ],
   "source": [
    "%load_ext autoreload\n",
    "%autoreload 2\n",
    "\n",
    "#from pathlib import Path\n",
    "from astropy.io import fits\n",
    "import numpy  as np\n",
    "#import pandas as pd\n",
    "#import h5py\n",
    "\n",
    "#from tqdm import tqdm\n",
    "#from astropy import units\n",
    "from astropy import units as u\n",
    "#from scipy.interpolate import interp1d\n",
    "#from scipy.interpolate import RegularGridInterpolator\n",
    "#from scipy.signal      import argrelextrema\n",
    "\n",
    "import ehtplot\n",
    "from matplotlib import pyplot as plt, cm\n",
    "\n",
    "from common import dalt\n",
    "from common import hallmark as hm\n",
    "from common import viz\n",
    "from common import io_ipole as io\n",
    "from common import mockservation as ms"
   ]
  },
  {
   "cell_type": "code",
   "execution_count": 2,
   "id": "b348d794-35e1-4201-87af-16ec101d6757",
   "metadata": {},
   "outputs": [],
   "source": [
    "pf = hm.ParaFrame('model/Illinois_thermal/230GHz/Ma+0.5_w5/img_s{i}_Rh160_i30.h5')"
   ]
  },
  {
   "cell_type": "code",
   "execution_count": 3,
   "id": "ecedf262-ebbe-4d94-9ba9-cdc87cdd1b54",
   "metadata": {},
   "outputs": [],
   "source": [
    "mov = io.load_mov(pf.path)"
   ]
  },
  {
   "cell_type": "code",
   "execution_count": 4,
   "id": "cff9db93-e7b8-4157-8782-956e80b7266f",
   "metadata": {},
   "outputs": [],
   "source": [
    "with fits.open('data/reconst/mad_avg.fits') as hdul:\n",
    "    img_mock = dalt.Image(hdul[0].data.T,\n",
    "                          4.14e6 * u.Msun, 2.5077305106e+22 * u.cm,\n",
    "                          230e9 * u.Hz, 0, \n",
    "                          79.52842452054078 * 150 / 400,\n",
    "                          79.52842452054078 * 150 / 400)"
   ]
  },
  {
   "cell_type": "code",
   "execution_count": 5,
   "id": "cc6d9c6a-a626-40de-9093-0eed7f7c18a9",
   "metadata": {},
   "outputs": [
    {
     "data": {
      "text/plain": [
       "(1000, 400, 400)"
      ]
     },
     "execution_count": 5,
     "metadata": {},
     "output_type": "execute_result"
    }
   ],
   "source": [
    "mov.shape"
   ]
  },
  {
   "cell_type": "code",
   "execution_count": 8,
   "id": "ba87229a-4d68-4d68-963a-065dcac5d3c5",
   "metadata": {},
   "outputs": [
    {
     "data": {
      "text/latex": [
       "$0.0012095297 \\; \\mathrm{\\frac{erg}{Hz\\,s\\,sr\\,cm^{2}}}$"
      ],
      "text/plain": [
       "<Image 0.00120953 erg / (cm2 Hz s sr)>"
      ]
     },
     "execution_count": 8,
     "metadata": {},
     "output_type": "execute_result"
    }
   ],
   "source": [
    "np.max(mov)"
   ]
  },
  {
   "cell_type": "code",
   "execution_count": 10,
   "id": "8aca6df1-bec9-4605-8959-db3e62d6a9fa",
   "metadata": {},
   "outputs": [],
   "source": [
    "for i in range(mov.shape[0]):\n",
    "    fig, ax = plt.subplots(1,1,figsize=(12,12))\n",
    "    viz.show(mov, i, ax=ax, cmap='afmhot_us', vmax=0.0008)\n",
    "    ax.axis('off')\n",
    "    fig.savefig(f'explain/explain{i:04d}.png', dpi=144, bbox_inches='tight', pad_inches=0)\n",
    "    plt.close(fig)"
   ]
  },
  {
   "cell_type": "code",
   "execution_count": null,
   "id": "24f2349d-132a-4553-860a-a25054bac33f",
   "metadata": {},
   "outputs": [],
   "source": [
    "vis = ms.mockserve(mov, N=1600)"
   ]
  },
  {
   "cell_type": "code",
   "execution_count": null,
   "id": "a15566af-47ac-4d5d-81d7-1963dda41c70",
   "metadata": {},
   "outputs": [],
   "source": [
    "import numpy as np\n",
    "\n",
    "def f(v):\n",
    "    return abs(v).value\n",
    "\n",
    "ax = viz.show(vis, s=1, f=f)\n",
    "ax.set_xlim(-1e10, 1e10)\n",
    "ax.set_ylim(0, 1e10)"
   ]
  },
  {
   "cell_type": "code",
   "execution_count": null,
   "id": "ec4806aa-06a8-497d-8761-63c7043b2ceb",
   "metadata": {},
   "outputs": [],
   "source": []
  }
 ],
 "metadata": {
  "kernelspec": {
   "display_name": "Python 3 (ipykernel)",
   "language": "python",
   "name": "python3"
  },
  "language_info": {
   "codemirror_mode": {
    "name": "ipython",
    "version": 3
   },
   "file_extension": ".py",
   "mimetype": "text/x-python",
   "name": "python",
   "nbconvert_exporter": "python",
   "pygments_lexer": "ipython3",
   "version": "3.10.4"
  }
 },
 "nbformat": 4,
 "nbformat_minor": 5
}
