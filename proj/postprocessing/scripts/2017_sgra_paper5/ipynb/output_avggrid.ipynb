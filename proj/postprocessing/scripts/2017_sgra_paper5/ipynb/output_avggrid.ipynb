{
 "cells": [
  {
   "cell_type": "code",
   "execution_count": 1,
   "id": "9adfb973-5596-47f1-8642-76e5fe52cdc2",
   "metadata": {},
   "outputs": [],
   "source": [
    "%load_ext autoreload\n",
    "%autoreload 2\n",
    "\n",
    "import numpy  as np\n",
    "import pandas as pd\n",
    "import h5py\n",
    "\n",
    "import ehtplot\n",
    "from matplotlib import pyplot as plt, cm\n",
    "\n",
    "from common import dalt\n",
    "from common import hallmark as hm\n",
    "from common import viz"
   ]
  },
  {
   "cell_type": "code",
   "execution_count": 2,
   "id": "8196f46e-1f76-4532-b5c4-bf48fdaeb09d",
   "metadata": {},
   "outputs": [
    {
     "name": "stdout",
     "output_type": "stream",
     "text": [
      "freq ['230GHz' '2um' '86GHz']\n",
      "Rhigh [  1  10  40 160]\n",
      "mag ['M' 'S']\n",
      "win [1 2 3 4 5]\n",
      "inc [ 10  30  50  70  90 110 130 150 170]\n",
      "aspin [-0.94 -0.5   0.    0.5   0.94]\n"
     ]
    }
   ],
   "source": [
    "pf = hm.ParaFrame('cache/Illinois_thermal_w{win:d}/{mag}a{aspin:g}_i{inc:d}/avg_Rh{Rhigh:d}_{freq}.h5')\n",
    "\n",
    "for k in set(pf.keys()) - {'path'}:\n",
    "    globals()[k] = np.unique(pf[k])\n",
    "    print(k, globals()[k][:16])"
   ]
  },
  {
   "cell_type": "code",
   "execution_count": 3,
   "id": "8207b1a6-1759-4a21-87f1-310f241d9f5e",
   "metadata": {},
   "outputs": [],
   "source": [
    "magmap = {'M':'MAD', 'S':'SANE'}\n",
    "\n",
    "def readimg(f):\n",
    "    with h5py.File(f) as h:\n",
    "        m    = h['meta']\n",
    "        meta = dalt.ImageMeta(**{k:m[k][()] for k in m.keys()})\n",
    "        data = h['data'][:]\n",
    "    return dalt.Image(data, meta=meta)\n",
    "\n",
    "def plot(ax, pf):\n",
    "    if len(pf) != 1:\n",
    "        return\n",
    "    \n",
    "    if pf.freq.iloc[0] == '230GHz':\n",
    "        vmax = .75e-3\n",
    "    else:\n",
    "        vmax = None    \n",
    "\n",
    "    img = readimg(pf.path.iloc[0])\n",
    "    viz.show(img, s=0, ax=ax, cmap='afmhot_10us', vmin=0, vmax=vmax, labels=False)\n",
    "    ax.xaxis.set_ticks(np.linspace(-75,75,7))\n",
    "    ax.yaxis.set_ticks(np.linspace(-75,75,7))\n",
    "    ax.tick_params(color='w')\n",
    "    for spine in ax.spines.values():\n",
    "        spine.set_edgecolor('w')"
   ]
  },
  {
   "cell_type": "code",
   "execution_count": 4,
   "id": "24a0bbeb-fe3d-4307-9016-60ad7f0947a4",
   "metadata": {},
   "outputs": [],
   "source": [
    "f  = '230GHz'\n",
    "w  = 5\n",
    "a  = 0.5\n",
    "Rh = 10\n",
    "i  = 50\n",
    "\n",
    "for m in ['M', 'S']:\n",
    "    fig = viz.grid(pf(win=w)(mag=m)(inc=i)(freq='230GHz'), plot, aspin=[a], Rhigh=[Rh],\n",
    "                   figsize=(6,6), title=f'Averaged {f} image for {magmap[m]}, inclincation $i={i}^\\circ$, window {w}',\n",
    "                   xtitle=r'$a_\\mathrm{{spin}}={}$',  ytitle=r'$R_\\mathrm{{high}}={}$',\n",
    "                   xlabel=r'$x$ [$\\mu$as]', ylabel=r'$y$ [$\\mu$as]', \n",
    "                   fout=f'output/plot/avgsample_{magmap[m]}')\n",
    "    plt.close(fig)"
   ]
  },
  {
   "cell_type": "code",
   "execution_count": 5,
   "id": "283f4b64-f635-4f74-9c36-0919cfecfed5",
   "metadata": {},
   "outputs": [],
   "source": [
    "f = '230GHz'\n",
    "w = 5\n",
    "i = 50\n",
    "\n",
    "for m in ['M', 'S']:\n",
    "    fig = viz.grid(pf(win=w)(mag=m)(inc=i)(freq=f), plot, aspin=aspin, Rhigh=Rhigh[::-1],\n",
    "                   figsize=(15,12), title=f'Averaged {f} image for {magmap[m]}, inclincation $i={i}^\\circ$, window {w}',\n",
    "                   xtitle=r'$a_\\mathrm{{spin}}={}$',  ytitle=r'$R_\\mathrm{{high}}={}$',                   \n",
    "                   xlabel=r'$x$ [$\\mu$as]', ylabel=r'$y$ [$\\mu$as]',\n",
    "                   fout=f'output/plot/avggrid_{magmap[m]}')\n",
    "    plt.close(fig)"
   ]
  },
  {
   "cell_type": "code",
   "execution_count": null,
   "id": "2234beaa-6bfa-440e-9f37-fa0d0d4a3319",
   "metadata": {},
   "outputs": [],
   "source": []
  }
 ],
 "metadata": {
  "kernelspec": {
   "display_name": "Python 3 (ipykernel)",
   "language": "python",
   "name": "python3"
  },
  "language_info": {
   "codemirror_mode": {
    "name": "ipython",
    "version": 3
   },
   "file_extension": ".py",
   "mimetype": "text/x-python",
   "name": "python",
   "nbconvert_exporter": "python",
   "pygments_lexer": "ipython3",
   "version": "3.9.9"
  }
 },
 "nbformat": 4,
 "nbformat_minor": 5
}
