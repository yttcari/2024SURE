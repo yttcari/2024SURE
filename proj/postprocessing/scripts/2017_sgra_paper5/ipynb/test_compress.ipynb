{
 "cells": [
  {
   "cell_type": "code",
   "execution_count": 1,
   "id": "dfab84bb-b622-4641-85ec-57cae732c600",
   "metadata": {},
   "outputs": [],
   "source": [
    "%load_ext autoreload\n",
    "%autoreload 2\n",
    "\n",
    "import numpy as np\n",
    "\n",
    "from matplotlib import pyplot as plt\n",
    "from astropy    import units\n",
    "\n",
    "from common import hallmark as hm\n",
    "from common import io_ipole as io\n",
    "from common import viz\n",
    "from common import dalt\n",
    "from common import mockservation as ms"
   ]
  },
  {
   "cell_type": "code",
   "execution_count": 2,
   "id": "0e1cc6f5-7965-4268-bb9a-2266c9a7311f",
   "metadata": {},
   "outputs": [
    {
     "name": "stdout",
     "output_type": "stream",
     "text": [
      "Rhigh [10 40]\n",
      "snapshot [5000 5001 5002 5003 5004 5005 5006 5007 5008 5009 5010 5011 5012 5013\n",
      " 5014 5015]\n",
      "window [5]\n",
      "aspin [0.94]\n",
      "mag ['S']\n",
      "inc [50 70]\n"
     ]
    }
   ],
   "source": [
    "pf = hm.ParaFrame(\n",
    "    'model/Illinois_thermal/230GHz/{mag}a{aspin:g}_w{window:d}/img_s{snapshot:d}_Rh{Rhigh:d}_i{inc:d}.h5'\n",
    ")\n",
    "\n",
    "for k in set(pf.keys()) - {'path'}:\n",
    "    globals()[k] = np.unique(pf[k])\n",
    "    print(k, globals()[k][:16])"
   ]
  },
  {
   "cell_type": "code",
   "execution_count": 3,
   "id": "616a52df-ac34-42d5-9e85-23957df93f8a",
   "metadata": {},
   "outputs": [
    {
     "data": {
      "text/html": [
       "<div>\n",
       "<style scoped>\n",
       "    .dataframe tbody tr th:only-of-type {\n",
       "        vertical-align: middle;\n",
       "    }\n",
       "\n",
       "    .dataframe tbody tr th {\n",
       "        vertical-align: top;\n",
       "    }\n",
       "\n",
       "    .dataframe thead th {\n",
       "        text-align: right;\n",
       "    }\n",
       "</style>\n",
       "<table border=\"1\" class=\"dataframe\">\n",
       "  <thead>\n",
       "    <tr style=\"text-align: right;\">\n",
       "      <th></th>\n",
       "      <th>path</th>\n",
       "      <th>mag</th>\n",
       "      <th>aspin</th>\n",
       "      <th>window</th>\n",
       "      <th>snapshot</th>\n",
       "      <th>Rhigh</th>\n",
       "      <th>inc</th>\n",
       "    </tr>\n",
       "  </thead>\n",
       "  <tbody>\n",
       "    <tr>\n",
       "      <th>1</th>\n",
       "      <td>model/Illinois_thermal/230GHz/Sa+0.94_w5/img_s...</td>\n",
       "      <td>S</td>\n",
       "      <td>0.94</td>\n",
       "      <td>5</td>\n",
       "      <td>5000</td>\n",
       "      <td>40</td>\n",
       "      <td>70</td>\n",
       "    </tr>\n",
       "    <tr>\n",
       "      <th>3</th>\n",
       "      <td>model/Illinois_thermal/230GHz/Sa+0.94_w5/img_s...</td>\n",
       "      <td>S</td>\n",
       "      <td>0.94</td>\n",
       "      <td>5</td>\n",
       "      <td>5001</td>\n",
       "      <td>40</td>\n",
       "      <td>70</td>\n",
       "    </tr>\n",
       "    <tr>\n",
       "      <th>5</th>\n",
       "      <td>model/Illinois_thermal/230GHz/Sa+0.94_w5/img_s...</td>\n",
       "      <td>S</td>\n",
       "      <td>0.94</td>\n",
       "      <td>5</td>\n",
       "      <td>5002</td>\n",
       "      <td>40</td>\n",
       "      <td>70</td>\n",
       "    </tr>\n",
       "    <tr>\n",
       "      <th>7</th>\n",
       "      <td>model/Illinois_thermal/230GHz/Sa+0.94_w5/img_s...</td>\n",
       "      <td>S</td>\n",
       "      <td>0.94</td>\n",
       "      <td>5</td>\n",
       "      <td>5003</td>\n",
       "      <td>40</td>\n",
       "      <td>70</td>\n",
       "    </tr>\n",
       "    <tr>\n",
       "      <th>9</th>\n",
       "      <td>model/Illinois_thermal/230GHz/Sa+0.94_w5/img_s...</td>\n",
       "      <td>S</td>\n",
       "      <td>0.94</td>\n",
       "      <td>5</td>\n",
       "      <td>5004</td>\n",
       "      <td>40</td>\n",
       "      <td>70</td>\n",
       "    </tr>\n",
       "    <tr>\n",
       "      <th>...</th>\n",
       "      <td>...</td>\n",
       "      <td>...</td>\n",
       "      <td>...</td>\n",
       "      <td>...</td>\n",
       "      <td>...</td>\n",
       "      <td>...</td>\n",
       "      <td>...</td>\n",
       "    </tr>\n",
       "    <tr>\n",
       "      <th>1991</th>\n",
       "      <td>model/Illinois_thermal/230GHz/Sa+0.94_w5/img_s...</td>\n",
       "      <td>S</td>\n",
       "      <td>0.94</td>\n",
       "      <td>5</td>\n",
       "      <td>5995</td>\n",
       "      <td>40</td>\n",
       "      <td>70</td>\n",
       "    </tr>\n",
       "    <tr>\n",
       "      <th>1993</th>\n",
       "      <td>model/Illinois_thermal/230GHz/Sa+0.94_w5/img_s...</td>\n",
       "      <td>S</td>\n",
       "      <td>0.94</td>\n",
       "      <td>5</td>\n",
       "      <td>5996</td>\n",
       "      <td>40</td>\n",
       "      <td>70</td>\n",
       "    </tr>\n",
       "    <tr>\n",
       "      <th>1995</th>\n",
       "      <td>model/Illinois_thermal/230GHz/Sa+0.94_w5/img_s...</td>\n",
       "      <td>S</td>\n",
       "      <td>0.94</td>\n",
       "      <td>5</td>\n",
       "      <td>5997</td>\n",
       "      <td>40</td>\n",
       "      <td>70</td>\n",
       "    </tr>\n",
       "    <tr>\n",
       "      <th>1997</th>\n",
       "      <td>model/Illinois_thermal/230GHz/Sa+0.94_w5/img_s...</td>\n",
       "      <td>S</td>\n",
       "      <td>0.94</td>\n",
       "      <td>5</td>\n",
       "      <td>5998</td>\n",
       "      <td>40</td>\n",
       "      <td>70</td>\n",
       "    </tr>\n",
       "    <tr>\n",
       "      <th>1999</th>\n",
       "      <td>model/Illinois_thermal/230GHz/Sa+0.94_w5/img_s...</td>\n",
       "      <td>S</td>\n",
       "      <td>0.94</td>\n",
       "      <td>5</td>\n",
       "      <td>5999</td>\n",
       "      <td>40</td>\n",
       "      <td>70</td>\n",
       "    </tr>\n",
       "  </tbody>\n",
       "</table>\n",
       "<p>1000 rows × 7 columns</p>\n",
       "</div>"
      ],
      "text/plain": [
       "                                                   path mag  aspin  window  \\\n",
       "1     model/Illinois_thermal/230GHz/Sa+0.94_w5/img_s...   S   0.94       5   \n",
       "3     model/Illinois_thermal/230GHz/Sa+0.94_w5/img_s...   S   0.94       5   \n",
       "5     model/Illinois_thermal/230GHz/Sa+0.94_w5/img_s...   S   0.94       5   \n",
       "7     model/Illinois_thermal/230GHz/Sa+0.94_w5/img_s...   S   0.94       5   \n",
       "9     model/Illinois_thermal/230GHz/Sa+0.94_w5/img_s...   S   0.94       5   \n",
       "...                                                 ...  ..    ...     ...   \n",
       "1991  model/Illinois_thermal/230GHz/Sa+0.94_w5/img_s...   S   0.94       5   \n",
       "1993  model/Illinois_thermal/230GHz/Sa+0.94_w5/img_s...   S   0.94       5   \n",
       "1995  model/Illinois_thermal/230GHz/Sa+0.94_w5/img_s...   S   0.94       5   \n",
       "1997  model/Illinois_thermal/230GHz/Sa+0.94_w5/img_s...   S   0.94       5   \n",
       "1999  model/Illinois_thermal/230GHz/Sa+0.94_w5/img_s...   S   0.94       5   \n",
       "\n",
       "      snapshot  Rhigh  inc  \n",
       "1         5000     40   70  \n",
       "3         5001     40   70  \n",
       "5         5002     40   70  \n",
       "7         5003     40   70  \n",
       "9         5004     40   70  \n",
       "...        ...    ...  ...  \n",
       "1991      5995     40   70  \n",
       "1993      5996     40   70  \n",
       "1995      5997     40   70  \n",
       "1997      5998     40   70  \n",
       "1999      5999     40   70  \n",
       "\n",
       "[1000 rows x 7 columns]"
      ]
     },
     "execution_count": 3,
     "metadata": {},
     "output_type": "execute_result"
    }
   ],
   "source": [
    "sel = pf(inc=70)\n",
    "sel"
   ]
  },
  {
   "cell_type": "code",
   "execution_count": 4,
   "id": "8ba0eeb0-a699-4bff-b2cb-63e4e3063185",
   "metadata": {},
   "outputs": [],
   "source": [
    "imgs = io.load_mov(sel[:100].path)"
   ]
  },
  {
   "cell_type": "code",
   "execution_count": 5,
   "id": "38e93f14-0ba5-428f-8985-de8e1a9a7a89",
   "metadata": {},
   "outputs": [
    {
     "data": {
      "image/png": "[encoded data removed]",
      "text/plain": [
       "<Figure size 432x288 with 1 Axes>"
      ]
     },
     "metadata": {
      "needs_background": "light"
     },
     "output_type": "display_data"
    }
   ],
   "source": [
    "def mkplot(N=400, **kwargs):\n",
    "    tmp = ms.compress(imgs, N=N)\n",
    "    vis = ms.mockserve(tmp, [1024,1024])\n",
    "\n",
    "    U = vis.uvd[0]\n",
    "    U = np.linspace(-U/2,U/2,vis.shape[-2],endpoint=False)\n",
    "    plt.loglog(U, abs(vis[0,:,0]), **kwargs)\n",
    "    \n",
    "mkplot(400)\n",
    "mkplot(640,  linestyle='--')\n",
    "mkplot(1280, linestyle=':')"
   ]
  },
  {
   "cell_type": "code",
   "execution_count": 6,
   "id": "5a66ce8f-3c76-4659-802c-826a3e1a7175",
   "metadata": {},
   "outputs": [],
   "source": [
    "from copy import copy\n",
    "from math import ceil\n",
    "\n",
    "def truncation_scale(tolerant=0.01, n=2):\n",
    "    return (1/(tolerant*tolerant) - 1)**(0.5/n)\n",
    "\n",
    "def compress(imgs, N=None, eht_f=15e9):\n",
    "    meta = copy(imgs.meta)\n",
    "    fov  = imgs.fov.to(units.rad).value\n",
    "    \n",
    "    spec, U, V = ms.upfft(imgs, *fov, N=N)\n",
    "    \n",
    "    u = np.linspace(-U/2,U/2,spec.shape[-2],endpoint=False)\n",
    "    v = np.linspace( 0,  V/2,spec.shape[-1])\n",
    "    u, v = np.meshgrid(u, v, indexing='ij')\n",
    "    \n",
    "    n  = 2\n",
    "    rr = (u*u + v*v) / (eht_f*eht_f)\n",
    "    Bw = 1 / np.sqrt(1 + rr**n)\n",
    "    \n",
    "    Nu =    spec.shape[-2]\n",
    "    Nv = 2*(spec.shape[-1]-1)\n",
    "    \n",
    "    scale = truncation_scale(n=n)\n",
    "    Ndown = [\n",
    "        2 * ceil(abs(Nu * scale * eht_f / U / 2)),\n",
    "        2 * ceil(abs(Nv * scale * eht_f / V / 2)),\n",
    "    ]\n",
    "    \n",
    "    print(Bw.shape, spec.shape)\n",
    "    \n",
    "    print(Ndown)\n",
    "    \n",
    "    I, W, H = ms.downifft(spec * Bw[np.newaxis,:,:], U, V, N=Ndown)\n",
    "    \n",
    "    meta.width  = abs(W * meta.dist).to(meta.rg)\n",
    "    meta.height = abs(H * meta.dist).to(meta.rg)\n",
    "    return dalt.Image(I, meta=meta)"
   ]
  },
  {
   "cell_type": "code",
   "execution_count": 7,
   "id": "910f3871-bc4b-472d-a591-050160025c61",
   "metadata": {},
   "outputs": [
    {
     "name": "stdout",
     "output_type": "stream",
     "text": [
      "(400, 201) (100, 400, 201)\n",
      "[146, 146]\n",
      "(700, 351) (100, 700, 351)\n",
      "[256, 256]\n",
      "(1404, 703) (100, 1404, 703)\n",
      "[512, 512]\n"
     ]
    },
    {
     "data": {
      "image/png": "[encoded data removed]",
      "text/plain": [
       "<Figure size 432x288 with 1 Axes>"
      ]
     },
     "metadata": {
      "needs_background": "light"
     },
     "output_type": "display_data"
    }
   ],
   "source": [
    "def mkplot(N=400, **kwargs):\n",
    "    tmp = compress(imgs, N)\n",
    "    vis = ms.mockserve(tmp, [1024,1024])\n",
    "\n",
    "    U = vis.uvd[0]\n",
    "    U = np.linspace(-U/2,U/2,vis.shape[-2],endpoint=False)\n",
    "    plt.loglog(U, abs(vis[0,:,0]), **kwargs)\n",
    "    \n",
    "mkplot(400)\n",
    "mkplot(700,  linestyle='--')\n",
    "mkplot(1404, linestyle=':')"
   ]
  },
  {
   "cell_type": "code",
   "execution_count": 8,
   "id": "ae9c8e36-9bbd-49eb-a711-42805b799c85",
   "metadata": {},
   "outputs": [
    {
     "name": "stdout",
     "output_type": "stream",
     "text": [
      "(700, 351) (100, 700, 351)\n",
      "[256, 256]\n"
     ]
    },
    {
     "data": {
      "text/plain": [
       "<AxesSubplot:xlabel='Relative R.A. [$\\\\mathrm{\\\\mu as}$]', ylabel='Relative Declination [$\\\\mathrm{\\\\mu as}$]'>"
      ]
     },
     "execution_count": 8,
     "metadata": {},
     "output_type": "execute_result"
    },
    {
     "data": {
      "image/png": "[encoded data removed]",
      "text/plain": [
       "<Figure size 432x288 with 1 Axes>"
      ]
     },
     "metadata": {
      "needs_background": "light"
     },
     "output_type": "display_data"
    }
   ],
   "source": [
    "tmp = compress(imgs, 700)\n",
    "viz.show(tmp, s=0)"
   ]
  },
  {
   "cell_type": "code",
   "execution_count": null,
   "id": "0aa90dff-097c-4992-8d3a-ca3257265386",
   "metadata": {},
   "outputs": [],
   "source": []
  }
 ],
 "metadata": {
  "kernelspec": {
   "display_name": "Python 3 (ipykernel)",
   "language": "python",
   "name": "python3"
  },
  "language_info": {
   "codemirror_mode": {
    "name": "ipython",
    "version": 3
   },
   "file_extension": ".py",
   "mimetype": "text/x-python",
   "name": "python",
   "nbconvert_exporter": "python",
   "pygments_lexer": "ipython3",
   "version": "3.9.7"
  }
 },
 "nbformat": 4,
 "nbformat_minor": 5
}
